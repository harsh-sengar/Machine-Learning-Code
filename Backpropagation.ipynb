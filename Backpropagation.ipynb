{
  "nbformat": 4,
  "nbformat_minor": 0,
  "metadata": {
    "colab": {
      "name": "Backpropagation.ipynb",
      "provenance": [],
      "collapsed_sections": [],
      "include_colab_link": true
    },
    "kernelspec": {
      "display_name": "Python 3",
      "language": "python",
      "name": "python3"
    },
    "language_info": {
      "codemirror_mode": {
        "name": "ipython",
        "version": 3
      },
      "file_extension": ".py",
      "mimetype": "text/x-python",
      "name": "python",
      "nbconvert_exporter": "python",
      "pygments_lexer": "ipython3",
      "version": "3.6.3"
    }
  },
  "cells": [
    {
      "cell_type": "markdown",
      "metadata": {
        "id": "view-in-github",
        "colab_type": "text"
      },
      "source": [
        "<a href=\"https://colab.research.google.com/github/harsh-sengar/Machine-Learning-Code/blob/main/Backpropagation.ipynb\" target=\"_parent\"><img src=\"https://colab.research.google.com/assets/colab-badge.svg\" alt=\"Open In Colab\"/></a>"
      ]
    },
    {
      "cell_type": "markdown",
      "metadata": {
        "id": "y871RZtRhCEH"
      },
      "source": [
        "# <font color='red'>Backpropagation</font>"
      ]
    },
    {
      "cell_type": "code",
      "source": [
        "from google.colab import drive\n",
        "drive.mount('/content/gdrive')"
      ],
      "metadata": {
        "id": "NylCEo0lP02u",
        "colab": {
          "base_uri": "https://localhost:8080/"
        },
        "outputId": "a12d5d62-c35a-40d3-da2b-4e74eb5e6d23"
      },
      "execution_count": null,
      "outputs": [
        {
          "output_type": "stream",
          "name": "stdout",
          "text": [
            "Mounted at /content/gdrive\n"
          ]
        }
      ]
    },
    {
      "cell_type": "markdown",
      "metadata": {
        "id": "0huUQ0byiI0I"
      },
      "source": [
        "## <font color='red'>Loading data </font>"
      ]
    },
    {
      "cell_type": "code",
      "source": [
        "cd gdrive/MyDrive/Colab Notebooks"
      ],
      "metadata": {
        "colab": {
          "base_uri": "https://localhost:8080/"
        },
        "id": "6xx7ZnlSP7UF",
        "outputId": "b442741e-b08e-4680-b6cf-28e3015ce498"
      },
      "execution_count": null,
      "outputs": [
        {
          "output_type": "stream",
          "name": "stdout",
          "text": [
            "[Errno 2] No such file or directory: 'gdrive/MyDrive/Colab Notebooks'\n",
            "/content/gdrive/MyDrive/Colab Notebooks\n"
          ]
        }
      ]
    },
    {
      "cell_type": "code",
      "metadata": {
        "id": "1hSje5CBgcUb",
        "colab": {
          "base_uri": "https://localhost:8080/"
        },
        "outputId": "a8861581-ce5a-4a52-9978-4df99a867a46"
      },
      "source": [
        "import pickle\n",
        "import numpy as np\n",
        "from tqdm import tqdm\n",
        "import matplotlib.pyplot as plt\n",
        "\n",
        "with open('data.pkl', 'rb') as f:\n",
        "    data = pickle.load(f)\n",
        "print(data.shape)\n",
        "X = data[:, :5]\n",
        "Y = data[:, -1]\n",
        "print(X.shape, Y.shape)"
      ],
      "execution_count": null,
      "outputs": [
        {
          "output_type": "stream",
          "name": "stdout",
          "text": [
            "(506, 6)\n",
            "(506, 5) (506,)\n"
          ]
        }
      ]
    },
    {
      "cell_type": "markdown",
      "metadata": {
        "id": "hmphIg_E52Rs"
      },
      "source": [
        "<font color='blue'><b>Check this video for better understanding of the computational graphs and back propagation</font>"
      ]
    },
    {
      "cell_type": "code",
      "metadata": {
        "colab": {
          "base_uri": "https://localhost:8080/",
          "height": 521
        },
        "id": "uUWpHhgg53eu",
        "outputId": "8d296a02-c553-48c6-e65d-a7b7bd131b15"
      },
      "source": [
        "from IPython.display import YouTubeVideo\n",
        "YouTubeVideo('i94OvYb6noo',width=\"1000\",height=\"500\")"
      ],
      "execution_count": null,
      "outputs": [
        {
          "output_type": "execute_result",
          "data": {
            "text/html": [
              "\n",
              "        <iframe\n",
              "            width=\"1000\"\n",
              "            height=\"500\"\n",
              "            src=\"https://www.youtube.com/embed/i94OvYb6noo\"\n",
              "            frameborder=\"0\"\n",
              "            allowfullscreen\n",
              "        ></iframe>\n",
              "        "
            ],
            "text/plain": [
              "<IPython.lib.display.YouTubeVideo at 0x7f62dd238dd0>"
            ],
            "image/jpeg": "[encoded data removed]"
          },
          "metadata": {},
          "execution_count": 57
        }
      ]
    },
    {
      "cell_type": "markdown",
      "metadata": {
        "id": "5JL-0soQistC"
      },
      "source": [
        "# <font color='red'>Computational graph</font>"
      ]
    },
    {
      "cell_type": "markdown",
      "metadata": {
        "id": "nREnTTJ3i0Vd"
      },
      "source": [
        "<img src='https://i.imgur.com/seSGbNS.png'>"
      ]
    },
    {
      "cell_type": "markdown",
      "metadata": {
        "id": "DSPX_H_4i_HT"
      },
      "source": [
        "\n",
        "*  **If you observe the graph, we are having input features [f1, f2, f3, f4, f5] and 9 weights [w1, w2, w3, w4, w5, w6,    w7, w8, w9]**.<br><br>\n",
        "*  **The final output of this graph is a value L which is computed as (Y-Y')^2** "
      ]
    },
    {
      "cell_type": "markdown",
      "metadata": {
        "id": "D54eDEv6jkO4"
      },
      "source": [
        "## <font color='red'>Task 1: Implementing Forward propagation, Backpropagation and Gradient checking </font>"
      ]
    },
    {
      "cell_type": "markdown",
      "metadata": {
        "id": "xyWK94o_fTKH"
      },
      "source": [
        "# <font color='red'>Task 1.1 </font>"
      ]
    },
    {
      "cell_type": "markdown",
      "metadata": {
        "id": "RwEcPWLffTKI"
      },
      "source": [
        "## <font color='blue'>Forward propagation </font>"
      ]
    },
    {
      "cell_type": "markdown",
      "metadata": {
        "id": "FCZrm-gkfTKI"
      },
      "source": [
        "\n",
        "*  <b>\n",
        "    Forward propagation</b>(Write your code in<font color='blue'> def forward_propagation()</b></font>)<br><br>\n",
        "    For easy debugging, we will break the computational graph into 3 parts.\n",
        "\n",
        "    <font color='green'><b>Part 1</b></font></b>\n",
        "    <img src='https://i.imgur.com/0xUaxy6.png'><br><br>\n",
        "    <font color='green'><b>Part 2</b></font></b><br>\n",
        "    <img src='https://i.imgur.com/J29pAJL.png'><br><br>\n",
        "    <font color='green'><b>Part 3</b></font></b>\n",
        "    <img src='https://i.imgur.com/vMyCsd9.png'>"
      ]
    },
    {
      "cell_type": "code",
      "metadata": {
        "id": "ADCovl2FfTKJ"
      },
      "source": [
        "def sigmoid(z):\n",
        "    '''In this function, we will compute the sigmoid(z)'''\n",
        "    # we can use this function in forward and backward propagation\n",
        "    # write the code to compute the sigmoid value of z and return that value \n",
        "    return (1/(1+np.exp(-z)))"
      ],
      "execution_count": null,
      "outputs": []
    },
    {
      "cell_type": "code",
      "metadata": {
        "id": "dLJ-OYwefTKJ",
        "colab": {
          "base_uri": "https://localhost:8080/"
        },
        "outputId": "595d9b3a-9f78-48cc-fe17-34da16f55c8a"
      },
      "source": [
        "def grader_sigmoid(z):\n",
        "  #if you have written the code correctly then the grader function will output true\n",
        "  val=sigmoid(z)\n",
        "  assert(val==0.8807970779778823)\n",
        "  return True\n",
        "grader_sigmoid(2)"
      ],
      "execution_count": null,
      "outputs": [
        {
          "output_type": "execute_result",
          "data": {
            "text/plain": [
              "True"
            ]
          },
          "metadata": {},
          "execution_count": 59
        }
      ]
    },
    {
      "cell_type": "code",
      "metadata": {
        "id": "KD3piNkifTKJ"
      },
      "source": [
        "def forward_propagation(x, y, w):\n",
        "        '''In this function, we will compute the forward propagation '''\n",
        "        # X: input data point, note that in this assignment you are having 5-d data points\n",
        "        # y: output varible\n",
        "        # W: weight array, its of length 9, W[0] corresponds to w1 in graph, W[1] corresponds to w2 in graph,..., W[8] corresponds to w9 in graph.  \n",
        "        # you have to return the following variables\n",
        "        # exp= part1 (compute the forward propagation until exp and then store the values in exp)\n",
        "        # tanh =part2(compute the forward propagation until tanh and then store the values in tanh)\n",
        "        # sig = part3(compute the forward propagation until sigmoid and then store the values in sig)\n",
        "        # we are computing one of the values for better understanding\n",
        "        \n",
        "        val_1= (w[0]*x[0]+w[1]*x[1]) * (w[0]*x[0]+w[1]*x[1]) + w[5]\n",
        "        part_1 = np.exp(val_1)\n",
        "        \n",
        "        val_2 = (w[6]+part_1)\n",
        "        part_2 = (np.tanh(val_2))\n",
        "        \n",
        "        val_3 = (np.sin(w[2]*x[2])*(w[3]*x[3]+w[4]*x[4])) + w[7]\n",
        "        part_3 = sigmoid(val_3)      \n",
        "\n",
        "        # after computing part1,part2 and part3 compute the value of y' from the main Computational graph using required equations\n",
        "        # write code to compute the value of L=(y-y')^2 and store it in variable loss\n",
        "        # compute derivative of L  w.r.to y' and store it in dy_pred \n",
        "        # Create a dictionary to store all the intermediate values i.e. dy_pred ,loss,exp,tanh,sigmoid\n",
        "        # we will be using the dictionary to find values in backpropagation, you can add other keys in dictionary as well\n",
        "\n",
        "        y_pred = part_2 + (part_3*w[8])\n",
        "        loss = (y-y_pred)**2\n",
        "        dy_pred = -2*(y-y_pred)\n",
        "        \n",
        "        forward_dict={}\n",
        "        forward_dict['exp']= part_1\n",
        "        forward_dict['sigmoid'] = part_3\n",
        "        forward_dict['tanh'] = part_2\n",
        "        forward_dict['loss'] = loss\n",
        "        forward_dict['dy_pred'] = dy_pred\n",
        "        \n",
        "        return forward_dict"
      ],
      "execution_count": null,
      "outputs": []
    },
    {
      "cell_type": "code",
      "metadata": {
        "id": "vP0iV7f4fTKK",
        "colab": {
          "base_uri": "https://localhost:8080/"
        },
        "outputId": "b293e374-51b4-45e4-bf65-cc0c52e35d4a"
      },
      "source": [
        "def grader_forwardprop(data):\n",
        "    dl = (data['dy_pred']==-1.9285278284819143)\n",
        "    loss=(data['loss']==0.9298048963072919)\n",
        "    part1=(data['exp']==1.1272967040973583)\n",
        "    part2=(data['tanh']==0.8417934192562146)\n",
        "    part3=(data['sigmoid']==0.5279179387419721)\n",
        "    assert(dl and loss and part1 and part2 and part3)\n",
        "    return True\n",
        "w=np.ones(9)*0.1\n",
        "d1=forward_propagation(X[0],Y[0],w)\n",
        "grader_forwardprop(d1)"
      ],
      "execution_count": null,
      "outputs": [
        {
          "output_type": "execute_result",
          "data": {
            "text/plain": [
              "True"
            ]
          },
          "metadata": {},
          "execution_count": 61
        }
      ]
    },
    {
      "cell_type": "markdown",
      "metadata": {
        "id": "2zcQmvkvfTKL"
      },
      "source": [
        "# <font color='red'>Task 1.2 </font>"
      ]
    },
    {
      "cell_type": "markdown",
      "metadata": {
        "id": "4YVYD18xfTKL"
      },
      "source": [
        "## <font color='blue'>Backward propagation</font>"
      ]
    },
    {
      "cell_type": "code",
      "metadata": {
        "id": "Ld1PMQtffTKL"
      },
      "source": [
        "def backward_propagation(x,y,w,forward_dict):\n",
        "    '''In this function, we will compute the backward propagation '''\n",
        "    # forward_dict: the outputs of the forward_propagation() function\n",
        "    # write code to compute the gradients of each weight [w1,w2,w3,...,w9]\n",
        "    # Hint: you can use dict type to store the required variables \n",
        "    # dw1 = # in dw1 compute derivative of L w.r.to w1\n",
        "    # dw2 = # in dw2 compute derivative of L w.r.to w2\n",
        "    # dw3 = # in dw3 compute derivative of L w.r.to w3\n",
        "    # dw4 = # in dw4 compute derivative of L w.r.to w4\n",
        "    # dw5 = # in dw5 compute derivative of L w.r.to w5\n",
        "    # dw6 = # in dw6 compute derivative of L w.r.to w6\n",
        "    # dw7 = # in dw7 compute derivative of L w.r.to w7\n",
        "    # dw8 = # in dw8 compute derivative of L w.r.to w8\n",
        "    # dw9 = # in dw9 compute derivative of L w.r.to w9\n",
        "    \n",
        "    dw1 = ((forward_dict['dy_pred']*(1-(forward_dict['tanh'])**2))*forward_dict['exp'])*2*(x[0]*w[0]+x[1]*w[1])*x[0]\n",
        "    dw2 = ((forward_dict['dy_pred']*(1-(forward_dict['tanh'])**2))*forward_dict['exp'])*2*(x[0]*w[0]+x[1]*w[1])*x[1]\n",
        "    dw3 = (forward_dict['dy_pred']*w[8]*(forward_dict['sigmoid']*(1-forward_dict['sigmoid'])))*(w[3]*x[3]+w[4]*x[4])*x[2]*(np.cos(w[2]*x[2]))\n",
        "    dw4 = (forward_dict['dy_pred']*w[8]*(forward_dict['sigmoid']*(1-forward_dict['sigmoid'])))*x[3]*(np.sin(w[2]*x[2]))\n",
        "    dw5 = (forward_dict['dy_pred']*w[8]*(forward_dict['sigmoid']*(1-forward_dict['sigmoid'])))*x[4]*(np.sin(w[2]*x[2]))\n",
        "    dw6 = (forward_dict['dy_pred']*(1-(forward_dict['tanh'])**2))*forward_dict['exp']\n",
        "    dw7 = forward_dict['dy_pred']*(1-(forward_dict['tanh'])**2)\n",
        "    dw8 = forward_dict['dy_pred']*w[8]*(forward_dict['sigmoid']*(1-forward_dict['sigmoid']))\n",
        "    dw9 = forward_dict['dy_pred']*forward_dict['sigmoid']\n",
        "\n",
        "    backward_dict={}\n",
        "    backward_dict['dw1']= dw1\n",
        "    backward_dict['dw2']= dw2\n",
        "    backward_dict['dw3']= dw3\n",
        "    backward_dict['dw4']= dw4\n",
        "    backward_dict['dw5']= dw5\n",
        "    backward_dict['dw6']= dw6\n",
        "    backward_dict['dw7']= dw7\n",
        "    backward_dict['dw8']= dw8\n",
        "    backward_dict['dw9']= dw9\n",
        "    \n",
        "    #store the variables dw1,dw2 etc. in a dict as backward_dict['dw1']= dw1,backward_dict['dw2']= dw2...\n",
        "    \n",
        "    return backward_dict"
      ],
      "execution_count": null,
      "outputs": []
    },
    {
      "cell_type": "code",
      "metadata": {
        "id": "0ipQbNXOfTKM",
        "colab": {
          "base_uri": "https://localhost:8080/"
        },
        "outputId": "18f88d42-68be-4353-9cc1-2150776be9c4"
      },
      "source": [
        "def grader_backprop(data):\n",
        "    dw1=(np.round(data['dw1'],6)==-0.229733)\n",
        "    dw2=(np.round(data['dw2'],6)==-0.021408)\n",
        "    dw3=(np.round(data['dw3'],6)==-0.005625)\n",
        "    dw4=(np.round(data['dw4'],6)==-0.004658)\n",
        "    dw5=(np.round(data['dw5'],6)==-0.001008)\n",
        "    dw6=(np.round(data['dw6'],6)==-0.633475)\n",
        "    dw7=(np.round(data['dw7'],6)==-0.561942)\n",
        "    dw8=(np.round(data['dw8'],6)==-0.048063)\n",
        "    dw9=(np.round(data['dw9'],6)==-1.018104)\n",
        "    assert(dw1 and dw2 and dw3 and dw4 and dw5 and dw6 and dw7 and dw8 and dw9)\n",
        "    return True \n",
        "w=np.ones(9)*0.1\n",
        "forward_dict=forward_propagation(X[0],Y[0],w)\n",
        "backward_dict=backward_propagation(X[0],Y[0],w,forward_dict)\n",
        "grader_backprop(backward_dict)"
      ],
      "execution_count": null,
      "outputs": [
        {
          "output_type": "execute_result",
          "data": {
            "text/plain": [
              "True"
            ]
          },
          "metadata": {},
          "execution_count": 63
        }
      ]
    },
    {
      "cell_type": "markdown",
      "metadata": {
        "id": "RlR1JVN5fTKM"
      },
      "source": [
        "# <font color='red'>Task 1.3 </font>"
      ]
    },
    {
      "cell_type": "markdown",
      "metadata": {
        "id": "STS4NrQQc6OH"
      },
      "source": [
        " ## <font color='blue'>Gradient clipping</font>"
      ]
    },
    {
      "cell_type": "markdown",
      "metadata": {
        "id": "XY7ivRNzdPok"
      },
      "source": [
        "<b> Check this  <a href='https://towardsdatascience.com/how-to-debug-a-neural-network-with-gradient-checking-41deec0357a9'>blog link</a> for more details on Gradient clipping"
      ]
    },
    {
      "cell_type": "markdown",
      "metadata": {
        "id": "BrsfpDoidtZ5"
      },
      "source": [
        " we know that the derivative of any function is\n",
        " \n",
        " $$\\lim_{\\epsilon\\to0}\\frac{f(x+\\epsilon)-f(x-\\epsilon)}{2\\epsilon}$$\n"
      ]
    },
    {
      "cell_type": "markdown",
      "metadata": {
        "id": "vUcmt0kPd02f"
      },
      "source": [
        "*  The definition above can be used as a numerical approximation of the derivative. Taking an epsilon small enough, the calculated approximation will have an error in the range of epsilon squared. \n",
        "\n",
        "*  In other words, if epsilon is 0.001, the approximation will be off by 0.00001.\n",
        "\n",
        "Therefore, we can use this to approximate the gradient, and in turn make sure that backpropagation is implemented properly. This forms the basis of <b>gradient checking!</b>"
      ]
    },
    {
      "cell_type": "markdown",
      "metadata": {
        "id": "pFSu16KCeU0x"
      },
      "source": [
        "## <Font color='blue'>Gradient checking example</font>"
      ]
    },
    {
      "cell_type": "markdown",
      "metadata": {
        "id": "Gz0mmT_xecfC"
      },
      "source": [
        "<font >\n",
        "lets understand the concept with a simple example:\n",
        "$f(w1,w2,x1,x2)=w_{1}^{2} . x_{1} + w_{2} . x_{2}$ \n",
        "\n",
        "from the above function , lets assume $w_{1}=1$, $w_{2}=2$, $x_{1}=3$, $x_{2}=4$ the gradient of $f$ w.r.t $w_{1}$ is\n",
        "\n",
        "\\begin{array} {lcl}\n",
        "\\frac{df}{dw_{1}} = dw_{1} &=&2.w_{1}.x_{1} \\\\& = &2.1.3\\\\& = &6\n",
        "\\end{array}\n",
        "\n",
        "\n",
        "let calculate the aproximate gradient of $w_{1}$ as mentinoned in the above formula and considering $\\epsilon=0.0001$\n",
        "\n",
        "\\begin{array} {lcl}\n",
        "dw_1^{approx} & = & \\frac{f(w1+\\epsilon,w2,x1,x2)-f(w1-\\epsilon,w2,x1,x2)}{2\\epsilon} \\\\ & = & \\frac{((1+0.0001)^{2} . 3 + 2 . 4) - ((1-0.0001)^{2} . 3 + 2 . 4)}{2\\epsilon} \\\\ & = & \\frac{(1.00020001 . 3 + 2 . 4) - (0.99980001. 3 + 2 . 4)}{2*0.0001} \\\\ & = & \\frac{(11.00060003) - (10.99940003)}{0.0002}\\\\ & = & 5.99999999999\n",
        "\\end{array}\n",
        "\n",
        "Then, we apply the following formula for gradient check: <i>gradient_check</i> = \n",
        "$\\frac{\\left\\Vert\\left (dW-dW^{approx}\\rm\\right) \\right\\Vert_2}{\\left\\Vert\\left (dW\\rm\\right) \\right\\Vert_2+\\left\\Vert\\left (dW^{approx}\\rm\\right) \\right\\Vert_2}$\n",
        "\n",
        "The equation above is basically the Euclidean distance normalized by the sum of the norm of the vectors. We use normalization in case that one of the vectors is very small.\n",
        "As a value for epsilon, we usually opt for 1e-7. Therefore, if gradient check return a value less than 1e-7, then it means that backpropagation was implemented correctly. Otherwise, there is potentially a mistake in your implementation. If the value exceeds 1e-3, then you are sure that the code is not correct.\n",
        "\n",
        "in our example: <i>gradient_check</i> $ = \\frac{(6 - 5.999999999994898)}{(6 + 5.999999999994898)} = 4.2514140356330737e^{-13}$\n",
        "\n",
        "you can mathamatically derive the same thing like this\n",
        "\n",
        "\\begin{array} {lcl}\n",
        "dw_1^{approx} & = & \\frac{f(w1+\\epsilon,w2,x1,x2)-f(w1-\\epsilon,w2,x1,x2)}{2\\epsilon} \\\\ & = & \\frac{((w_{1}+\\epsilon)^{2} . x_{1} + w_{2} . x_{2}) - ((w_{1}-\\epsilon)^{2} . x_{1} + w_{2} . x_{2})}{2\\epsilon} \\\\ & = & \\frac{4. \\epsilon.w_{1}. x_{1}}{2\\epsilon} \\\\ & = &  2.w_{1}.x_{1}\n",
        "\\end{array}\n"
      ]
    },
    {
      "cell_type": "markdown",
      "metadata": {
        "id": "f1BFQQaCermK"
      },
      "source": [
        "## <font color='red'> Implement Gradient checking </font> <br>\n",
        " (Write your code in <font color='blue'> def gradient_checking()</font>)"
      ]
    },
    {
      "cell_type": "markdown",
      "metadata": {
        "id": "GqpfA3AqfJba"
      },
      "source": [
        "**Algorithm** \n",
        "\n"
      ]
    },
    {
      "cell_type": "markdown",
      "metadata": {
        "id": "FL39KeRFfNoD"
      },
      "source": [
        "<pre>\n",
        "<font color='darkblue'>\n",
        "W = initilize_randomly\n",
        "def gradient_checking(data_point, W):<font color='grey'>\n",
        "    # compute the L value using forward_propagation()\n",
        "    # compute the gradients of W using backword_propagation()</font>\n",
        "    approx_gradients = []\n",
        "    for each wi weight value in W:<font color='grey'>\n",
        "        # add a small value to weight wi, and then find the values of L with the updated weights\n",
        "        # subtract a small value to weight wi, and then find the values of L with the updated weights\n",
        "        # compute the approximation gradients of weight wi</font>\n",
        "        approx_gradients.append(approximation gradients of weight wi)<font color='grey'>\n",
        "    # compare the gradient of weights W from backword_propagation() with the aproximation gradients of weights with <br>  gradient_check formula</font>\n",
        "    return gradient_check</font>\n",
        "<b>NOTE: you can do sanity check by checking all the return values of gradient_checking(),<br> they have to be zero. if not you have bug in your code\n",
        "</pre></b>"
      ]
    },
    {
      "cell_type": "code",
      "metadata": {
        "id": "XBoJRqAwfTKO"
      },
      "source": [
        "def gradient_checking(x,y,w,eps):\n",
        "    # compute the dict value using forward_propagation()\n",
        "    # compute the actual gradients of W using backword_propagation()\n",
        "    forward_dict=forward_propagation(x,y,w)\n",
        "    backward_dict=backward_propagation(x,y,w,forward_dict)\n",
        "    \n",
        "    #we are storing the original gradients for the given datapoints in a list\n",
        "    \n",
        "    original_gradients_list=list(backward_dict.values())\n",
        "    # make sure that the order is correct i.e. first element in the list corresponds to  dw1 ,second element is dw2 etc.\n",
        "    # you can use reverse function if the values are in reverse order\n",
        "    \n",
        "    approx_gradients_list=[]\n",
        "    #now we have to write code for approx gradients, here you have to make sure that you update only one weight at a time\n",
        "    #write your code here and append the approximate gradient value for each weight in  approx_gradients_list\n",
        "    for i in range(len(w)):\n",
        "      new_w = w\n",
        "      new_w[i]+=eps\n",
        "      forward_dict=forward_propagation(x,y,new_w)\n",
        "      L_plus = forward_dict['loss']\n",
        "      new_w[i]-=2*eps\n",
        "      forward_dict=forward_propagation(x,y,new_w)\n",
        "      L_minus = forward_dict['loss']\n",
        "      approx_gradients_list.append((L_plus - L_minus)/(2*eps))\n",
        "    \n",
        "    \n",
        "    \n",
        "    #performing gradient check operation\n",
        "    original_gradients_list=np.array(original_gradients_list)\n",
        "    approx_gradients_list=np.array(approx_gradients_list)\n",
        "    gradient_check_value =(original_gradients_list-approx_gradients_list)/(original_gradients_list+approx_gradients_list)\n",
        "    \n",
        "    return gradient_check_value\n",
        "    "
      ],
      "execution_count": null,
      "outputs": []
    },
    {
      "cell_type": "code",
      "metadata": {
        "id": "aWSU56GffTKO",
        "colab": {
          "base_uri": "https://localhost:8080/"
        },
        "outputId": "a3827085-5021-4b43-9862-3c98631d6e79"
      },
      "source": [
        "def grader_grad_check(value):\n",
        "    print(value)\n",
        "    assert(np.all(value <= 10**-3))\n",
        "    return True \n",
        "\n",
        "w=[ 0.00271756,  0.01260512,  0.00167639, -0.00207756,  0.00720768,\n",
        "   0.00114524,  0.00684168,  0.02242521,  0.01296444]\n",
        "\n",
        "eps=10**-7\n",
        "value= gradient_checking(X[0],Y[0],w,eps)\n",
        "grader_grad_check(value)"
      ],
      "execution_count": null,
      "outputs": [
        {
          "output_type": "stream",
          "name": "stdout",
          "text": [
            "[-1.73921918e-08  1.28741906e-05 -2.55164399e-04 -1.05871856e-05\n",
            " -1.95446016e-04 -1.16536595e-10 -9.63625495e-08 -1.06774472e-07\n",
            " -1.43339489e-08]\n"
          ]
        },
        {
          "output_type": "execute_result",
          "data": {
            "text/plain": [
              "True"
            ]
          },
          "metadata": {},
          "execution_count": 65
        }
      ]
    },
    {
      "cell_type": "markdown",
      "metadata": {
        "id": "0ufbFBFfhgL0"
      },
      "source": [
        "# <font color='red'> Task 2 : Optimizers </font>"
      ]
    },
    {
      "cell_type": "markdown",
      "metadata": {
        "id": "7zt05soYh1RM"
      },
      "source": [
        "* As a part of this task, you will be implementing 2  optimizers(methods to update weight)\n",
        "* Use the same computational graph that was mentioned above to do this task\n",
        "* The weights have been initialized from normal distribution with mean=0 and std=0.01. The initialization of weights is very important otherwiswe you can face vanishing gradient and exploding gradients problem."
      ]
    },
    {
      "cell_type": "markdown",
      "metadata": {
        "id": "CAyi7aSAicbr"
      },
      "source": [
        "**Check below video for reference purpose**"
      ]
    },
    {
      "cell_type": "code",
      "metadata": {
        "id": "ZogcxiegkQpz",
        "colab": {
          "base_uri": "https://localhost:8080/",
          "height": 521
        },
        "outputId": "838250e3-dc8d-4868-c8ae-fcb1438f935a"
      },
      "source": [
        "from IPython.display import YouTubeVideo\n",
        "YouTubeVideo('gYpoJMlgyXA',width=\"1000\",height=\"500\")"
      ],
      "execution_count": null,
      "outputs": [
        {
          "output_type": "execute_result",
          "data": {
            "text/html": [
              "\n",
              "        <iframe\n",
              "            width=\"1000\"\n",
              "            height=\"500\"\n",
              "            src=\"https://www.youtube.com/embed/gYpoJMlgyXA\"\n",
              "            frameborder=\"0\"\n",
              "            allowfullscreen\n",
              "        ></iframe>\n",
              "        "
            ],
            "text/plain": [
              "<IPython.lib.display.YouTubeVideo at 0x7f62dd245490>"
            ],
            "image/jpeg": "[encoded data removed]"
          },
          "metadata": {},
          "execution_count": 66
        }
      ]
    },
    {
      "cell_type": "markdown",
      "metadata": {
        "id": "jmefh7ktjbaR"
      },
      "source": [
        "<font color='blue'><b>Algorithm</b>"
      ]
    },
    {
      "cell_type": "markdown",
      "metadata": {
        "id": "nAc4NudkjdNa"
      },
      "source": [
        "<pre>\n",
        "    for each epoch(1-20):\n",
        "        for each data point in your data:\n",
        "            using the functions forward_propagation() and backword_propagation() compute the gradients of weights\n",
        "            update the weigts with help of gradients  \n",
        "</pre>"
      ]
    },
    {
      "cell_type": "markdown",
      "metadata": {
        "id": "_fdmPNqtjm3X"
      },
      "source": [
        "## <font color='red'> Implement below tasks</b>"
      ]
    },
    {
      "cell_type": "markdown",
      "metadata": {
        "id": "Ll9-CRsLjx_D"
      },
      "source": [
        "\n",
        "*  <b>Task 2.1</b>: you will be implementing the above algorithm with <b>Vanilla update</b> of weights<br><br>\n",
        "*  <b>Task 2.2</b>: you will be implementing the above algorithm with <b>Momentum update</b> of weights<br><br>\n",
        "*  <b>Task 2.3</b>: you will be implementing the above algorithm with <b>Adam update</b> of weights<br><br>\n"
      ]
    },
    {
      "cell_type": "markdown",
      "metadata": {
        "id": "atp082demrUR"
      },
      "source": [
        "**Note : If you get any assertion error while running grader functions, please print the variables in grader functions and check which variable is returning False .Recheck your logic for that variable .**"
      ]
    },
    {
      "cell_type": "markdown",
      "metadata": {
        "id": "cv_hZFWalS2z"
      },
      "source": [
        "### <font color='blue'>2.1 Algorithm with Vanilla update of weights</font>"
      ]
    },
    {
      "cell_type": "code",
      "metadata": {
        "id": "KlVuEsRjQoW5"
      },
      "source": [
        "def vanilla():\n",
        "  w = np.random.normal(0, 0.01, 9)\n",
        "  learning_rate = 0.0002\n",
        "  epochs = 20\n",
        "  v = np.zeros(9)\n",
        "  mu = 0.9\n",
        "  v_loss = []\n",
        "  for epoch in range(epochs):\n",
        "    for x,y in zip(X,Y):\n",
        "      forward_dict = forward_propagation(x, y, w)\n",
        "      backword_dict = backward_propagation(x, y, w, forward_dict)\n",
        "      w[0]-=(learning_rate*backword_dict['dw1'])\n",
        "      w[1]-=(learning_rate*backword_dict['dw2'])\n",
        "      w[2]-=(learning_rate*backword_dict['dw3'])\n",
        "      w[3]-=(learning_rate*backword_dict['dw4'])\n",
        "      w[4]-=(learning_rate*backword_dict['dw5'])\n",
        "      w[5]-=(learning_rate*backword_dict['dw6'])\n",
        "      w[6]-=(learning_rate*backword_dict['dw7'])\n",
        "      w[7]-=(learning_rate*backword_dict['dw8'])\n",
        "      w[8]-=(learning_rate*backword_dict['dw9'])\n",
        "\n",
        "    v_loss.append(forward_dict['loss'])\n",
        "  return v_loss"
      ],
      "execution_count": null,
      "outputs": []
    },
    {
      "cell_type": "markdown",
      "metadata": {
        "id": "V4RWWrZ7lWap"
      },
      "source": [
        "### <font color='blue'>2.2 Algorithm with Momentum update of weights</font>"
      ]
    },
    {
      "cell_type": "markdown",
      "metadata": {
        "id": "oM2BAasL6zz4"
      },
      "source": [
        "<img src='https://i.imgur.com/gyPSXhS.png'>"
      ]
    },
    {
      "cell_type": "markdown",
      "metadata": {
        "id": "2iCc4sIE-4A-"
      },
      "source": [
        "Here Gamma referes to the momentum coefficient, eta is leaning rate and v_t is moving average of our gradients at timestep t"
      ]
    },
    {
      "cell_type": "code",
      "source": [
        "def momentum():\n",
        "  w = np.random.normal(0, 0.01, 9)\n",
        "  learning_rate = 0.0002\n",
        "  epochs = 20\n",
        "  v = np.zeros(9)\n",
        "  mu = 0.9\n",
        "  m_loss = []\n",
        "  for epoch in range(epochs):\n",
        "    for x,y in zip(X,Y):\n",
        "      forward_dict = forward_propagation(x, y, w)\n",
        "      backword_dict = backward_propagation(x, y, w, forward_dict)\n",
        "      v[0] = mu*v[0] + learning_rate*backword_dict['dw1']\n",
        "      w[0]-=v[0]\n",
        "      v[1] = mu*v[1] + learning_rate*backword_dict['dw2']\n",
        "      w[1]-=v[1]\n",
        "      v[2] = mu*v[2] + learning_rate*backword_dict['dw3']\n",
        "      w[2]-=v[2]\n",
        "      v[3] = mu*v[3] + learning_rate*backword_dict['dw4']\n",
        "      w[3]-=v[3]\n",
        "      v[4] = mu*v[4] + learning_rate*backword_dict['dw5']\n",
        "      w[4]-=v[4]\n",
        "      v[5] = mu*v[5] + learning_rate*backword_dict['dw6']\n",
        "      w[5]-=v[5]\n",
        "      v[6] = mu*v[6] + learning_rate*backword_dict['dw7']\n",
        "      w[6]-=v[6]\n",
        "      v[7] = mu*v[7] + learning_rate*backword_dict['dw8']\n",
        "      w[7]-=v[7]\n",
        "      v[8] = mu*v[8] + learning_rate*backword_dict['dw9']\n",
        "      w[8]-=v[8]\n",
        "    m_loss.append(forward_dict['loss'])\n",
        "  return m_loss"
      ],
      "metadata": {
        "id": "sH0daOtA9HQy"
      },
      "execution_count": null,
      "outputs": []
    },
    {
      "cell_type": "markdown",
      "metadata": {
        "id": "-KTmDomaQoW5"
      },
      "source": [
        ""
      ]
    },
    {
      "cell_type": "markdown",
      "metadata": {
        "id": "Agtmr_lZQoW6"
      },
      "source": [
        "### <font color='blue'>2.3 Algorithm with Adam update of weights</font>"
      ]
    },
    {
      "cell_type": "markdown",
      "metadata": {
        "id": "WRYiT2KKQoW6"
      },
      "source": [
        "<img src='https://i.imgur.com/GDR8UFP.jpg'>"
      ]
    },
    {
      "cell_type": "code",
      "metadata": {
        "id": "0YffVQ2LQoW6"
      },
      "source": [
        "def adam():  \n",
        "  v = np.zeros(9)\n",
        "  m = np.zeros(9)\n",
        "  beta1 = 0.9\n",
        "  beta2 = 0.999\n",
        "  eps = 1e-7\n",
        "  w = np.random.normal(0, 0.01, 9)\n",
        "  learning_rate = 0.0002\n",
        "  epochs = 20\n",
        "  v = np.zeros(9)\n",
        "  mu = 0.9\n",
        "  a_loss = []\n",
        "  t = 1\n",
        "  for epoch in range(epochs):\n",
        "    for x,y in zip(X,Y):\n",
        "      forward_dict = forward_propagation(x, y, w)\n",
        "      backword_dict = backward_propagation(x, y, w, forward_dict)\n",
        "      m[0] = beta1*m[0] + (1-beta1)*backword_dict['dw1']\n",
        "      mt = m[0] / (1-beta1**t)\n",
        "      v[0] = beta2*v[0] + (1-beta2)*(backword_dict['dw1']**2)\n",
        "      vt = v[0] / (1-beta2**t)\n",
        "      w[0]-=learning_rate * mt / (np.sqrt(vt) + eps)\n",
        "\n",
        "      m[1] = beta1*m[1] + (1-beta1)*backword_dict['dw2']\n",
        "      mt = m[1] / (1-beta1**t)\n",
        "      v[1] = beta2*v[1] + (1-beta2)*(backword_dict['dw2']**2)\n",
        "      vt = v[1] / (1-beta2**t)\n",
        "      w[1]-=learning_rate * mt / (np.sqrt(vt) + eps)\n",
        "\n",
        "      m[2] = beta1*m[2] + (1-beta1)*backword_dict['dw3']\n",
        "      mt = m[2] / (1-beta1**t)\n",
        "      v[2] = beta2*v[2] + (1-beta2)*(backword_dict['dw3']**2)\n",
        "      vt = v[2] / (1-beta2**t)\n",
        "      w[2]-=learning_rate * mt / (np.sqrt(vt) + eps)\n",
        "\n",
        "      m[3] = beta1*m[3] + (1-beta1)*backword_dict['dw4']\n",
        "      mt = m[3] / (1-beta1**t)\n",
        "      v[3] = beta2*v[3] + (1-beta2)*(backword_dict['dw4']**2)\n",
        "      vt = v[3] / (1-beta2**t)\n",
        "      w[3]-=learning_rate * mt / (np.sqrt(vt) + eps)\n",
        "\n",
        "      m[4] = beta1*m[4] + (1-beta1)*backword_dict['dw5']\n",
        "      mt = m[4] / (1-beta1**t)\n",
        "      v[4] = beta2*v[4] + (1-beta2)*(backword_dict['dw5']**2)\n",
        "      vt = v[4] / (1-beta2**t)\n",
        "      w[4]-=learning_rate * mt / (np.sqrt(vt) + eps)\n",
        "\n",
        "      m[5] = beta1*m[5] + (1-beta1)*backword_dict['dw6']\n",
        "      mt = m[5] / (1-beta1**t)\n",
        "      v[5] = beta2*v[5] + (1-beta2)*(backword_dict['dw6']**2)\n",
        "      vt = v[5] / (1-beta2**t)\n",
        "      w[5]-=learning_rate * mt / (np.sqrt(vt) + eps)\n",
        "\n",
        "      m[6] = beta1*m[6] + (1-beta1)*backword_dict['dw7']\n",
        "      mt = m[6] / (1-beta1**t)\n",
        "      v[6] = beta2*v[6] + (1-beta2)*(backword_dict['dw7']**2)\n",
        "      vt = v[6] / (1-beta2**t)\n",
        "      w[6]-=learning_rate * mt / (np.sqrt(vt) + eps)\n",
        "\n",
        "      m[7] = beta1*m[7] + (1-beta1)*backword_dict['dw8']\n",
        "      mt = m[7] / (1-beta1**t)\n",
        "      v[7] = beta2*v[7] + (1-beta2)*(backword_dict['dw8']**2)\n",
        "      vt = v[7] / (1-beta2**t)\n",
        "      w[7]-=learning_rate * mt / (np.sqrt(vt) + eps)\n",
        "\n",
        "      m[8] = beta1*m[8] + (1-beta1)*backword_dict['dw9']\n",
        "      mt = m[8] / (1-beta1**t)\n",
        "      v[8] = beta2*v[8] + (1-beta2)*(backword_dict['dw9']**2)\n",
        "      vt = v[8] / (1-beta2**t)\n",
        "      w[8]-=learning_rate * mt / (np.sqrt(vt) + eps)\n",
        "      \n",
        "      t = t + 1\n",
        "    a_loss.append(forward_dict['loss'])\n",
        "  return a_loss"
      ],
      "execution_count": null,
      "outputs": []
    },
    {
      "cell_type": "markdown",
      "metadata": {
        "id": "7627cy8YlnYO"
      },
      "source": [
        "<font color='blue'>Comparision plot between epochs and loss with different optimizers. Make sure that loss is conerging with increaing epochs</font>"
      ]
    },
    {
      "cell_type": "code",
      "metadata": {
        "id": "scleSfIXl_bC"
      },
      "source": [
        "#plot the graph between loss vs epochs for all 3 optimizers."
      ],
      "execution_count": null,
      "outputs": []
    },
    {
      "cell_type": "code",
      "source": [
        "plt.figure(figsize=(10,5))\n",
        "plt.title(\"Comparision plot between epochs and loss with different optimizers.\")\n",
        "plt.plot(adam(),label=\"Adam\")\n",
        "plt.plot(momentum(),label=\"Momentum\")\n",
        "plt.plot(vanilla(),label=\"Vanilla\")\n",
        "plt.xlabel(\"epochs\")\n",
        "plt.ylabel(\"loss\")\n",
        "plt.legend()\n",
        "plt.show()\n",
        "# plt.savefig()  \n"
      ],
      "metadata": {
        "colab": {
          "base_uri": "https://localhost:8080/",
          "height": 350
        },
        "id": "8Gx4NVjdrW3O",
        "outputId": "1c266fae-beed-40eb-894d-7b281d6b2914"
      },
      "execution_count": null,
      "outputs": [
        {
          "output_type": "display_data",
          "data": {
            "image/png": "[encoded data removed]",
            "text/plain": [
              "<Figure size 720x360 with 1 Axes>"
            ]
          },
          "metadata": {
            "needs_background": "light"
          }
        }
      ]
    },
    {
      "cell_type": "markdown",
      "metadata": {
        "id": "YfDWEOCr69uQ"
      },
      "source": [
        "<font color='blue'><b>You can go through the following blog to understand the implementation of other optimizers .</font>\n",
        "   <br> [Gradients update blog](https://cs231n.github.io/neural-networks-3/) </br>"
      ]
    }
  ]
}